{
 "cells": [
  {
   "cell_type": "code",
   "execution_count": 4,
   "metadata": {},
   "outputs": [],
   "source": [
    "import pandas as pd\n",
    "import matplotlib.pyplot as plt\n",
    "import numpy as np\n",
    "from apyori import apriori"
   ]
  },
  {
   "cell_type": "code",
   "execution_count": 12,
   "metadata": {},
   "outputs": [],
   "source": [
    "file = \"https://gist.githubusercontent.com/Harsh-Git-Hub/2979ec48043928ad9033d8469928e751/raw/72de943e040b8bd0d087624b154d41b2ba9d9b60/retail_dataset.csv\""
   ]
  },
  {
   "cell_type": "code",
   "execution_count": 13,
   "metadata": {},
   "outputs": [
    {
     "data": {
      "text/html": [
       "<div>\n",
       "<style scoped>\n",
       "    .dataframe tbody tr th:only-of-type {\n",
       "        vertical-align: middle;\n",
       "    }\n",
       "\n",
       "    .dataframe tbody tr th {\n",
       "        vertical-align: top;\n",
       "    }\n",
       "\n",
       "    .dataframe thead th {\n",
       "        text-align: right;\n",
       "    }\n",
       "</style>\n",
       "<table border=\"1\" class=\"dataframe\">\n",
       "  <thead>\n",
       "    <tr style=\"text-align: right;\">\n",
       "      <th></th>\n",
       "      <th>0</th>\n",
       "      <th>1</th>\n",
       "      <th>2</th>\n",
       "      <th>3</th>\n",
       "      <th>4</th>\n",
       "      <th>5</th>\n",
       "      <th>6</th>\n",
       "    </tr>\n",
       "  </thead>\n",
       "  <tbody>\n",
       "    <tr>\n",
       "      <td>0</td>\n",
       "      <td>Bread</td>\n",
       "      <td>Wine</td>\n",
       "      <td>Eggs</td>\n",
       "      <td>Meat</td>\n",
       "      <td>Cheese</td>\n",
       "      <td>Pencil</td>\n",
       "      <td>Diaper</td>\n",
       "    </tr>\n",
       "    <tr>\n",
       "      <td>1</td>\n",
       "      <td>Bread</td>\n",
       "      <td>Cheese</td>\n",
       "      <td>Meat</td>\n",
       "      <td>Diaper</td>\n",
       "      <td>Wine</td>\n",
       "      <td>Milk</td>\n",
       "      <td>Pencil</td>\n",
       "    </tr>\n",
       "    <tr>\n",
       "      <td>2</td>\n",
       "      <td>Cheese</td>\n",
       "      <td>Meat</td>\n",
       "      <td>Eggs</td>\n",
       "      <td>Milk</td>\n",
       "      <td>Wine</td>\n",
       "      <td>NaN</td>\n",
       "      <td>NaN</td>\n",
       "    </tr>\n",
       "    <tr>\n",
       "      <td>3</td>\n",
       "      <td>Cheese</td>\n",
       "      <td>Meat</td>\n",
       "      <td>Eggs</td>\n",
       "      <td>Milk</td>\n",
       "      <td>Wine</td>\n",
       "      <td>NaN</td>\n",
       "      <td>NaN</td>\n",
       "    </tr>\n",
       "    <tr>\n",
       "      <td>4</td>\n",
       "      <td>Meat</td>\n",
       "      <td>Pencil</td>\n",
       "      <td>Wine</td>\n",
       "      <td>NaN</td>\n",
       "      <td>NaN</td>\n",
       "      <td>NaN</td>\n",
       "      <td>NaN</td>\n",
       "    </tr>\n",
       "  </tbody>\n",
       "</table>\n",
       "</div>"
      ],
      "text/plain": [
       "        0       1     2       3       4       5       6\n",
       "0   Bread    Wine  Eggs    Meat  Cheese  Pencil  Diaper\n",
       "1   Bread  Cheese  Meat  Diaper    Wine    Milk  Pencil\n",
       "2  Cheese    Meat  Eggs    Milk    Wine     NaN     NaN\n",
       "3  Cheese    Meat  Eggs    Milk    Wine     NaN     NaN\n",
       "4    Meat  Pencil  Wine     NaN     NaN     NaN     NaN"
      ]
     },
     "execution_count": 13,
     "metadata": {},
     "output_type": "execute_result"
    }
   ],
   "source": [
    "df=pd.read_csv(file)\n",
    "df.head()"
   ]
  },
  {
   "cell_type": "code",
   "execution_count": 14,
   "metadata": {},
   "outputs": [
    {
     "data": {
      "text/plain": [
       "(315, 7)"
      ]
     },
     "execution_count": 14,
     "metadata": {},
     "output_type": "execute_result"
    }
   ],
   "source": [
    "df.shape"
   ]
  },
  {
   "cell_type": "code",
   "execution_count": 15,
   "metadata": {},
   "outputs": [],
   "source": [
    "records=[]\n",
    "for i in range(0,315):\n",
    "    records.append([str(df.values[i,j]) for j in range(0,7)])"
   ]
  },
  {
   "cell_type": "code",
   "execution_count": 33,
   "metadata": {},
   "outputs": [],
   "source": [
    "association_rules = apriori(records, min_support=0.002000,min_confidence=0.2,min_lift=3,min_length=2)"
   ]
  },
  {
   "cell_type": "code",
   "execution_count": 34,
   "metadata": {},
   "outputs": [],
   "source": [
    "association_results=list(association_rules)"
   ]
  },
  {
   "cell_type": "code",
   "execution_count": 35,
   "metadata": {},
   "outputs": [
    {
     "data": {
      "text/plain": [
       "[RelationRecord(items=frozenset({'Bagel', 'Cheese', 'Bread', 'Meat', 'Eggs', 'nan', 'Diaper'}), support=0.006349206349206349, ordered_statistics=[OrderedStatistic(items_base=frozenset({'Bagel', 'Bread', 'Eggs', 'nan', 'Diaper'}), items_add=frozenset({'Meat', 'Cheese'}), confidence=1.0, lift=3.0882352941176467)]),\n",
       " RelationRecord(items=frozenset({'Bagel', 'Pencil', 'Cheese', 'Bread', 'Meat', 'nan', 'Diaper'}), support=0.006349206349206349, ordered_statistics=[OrderedStatistic(items_base=frozenset({'Pencil', 'Cheese', 'Meat', 'nan', 'Diaper'}), items_add=frozenset({'Bagel', 'Bread'}), confidence=1.0, lift=3.5795454545454546)]),\n",
       " RelationRecord(items=frozenset({'Bagel', 'Pencil', 'Bread', 'Meat', 'Eggs', 'Milk', 'Diaper'}), support=0.006349206349206349, ordered_statistics=[OrderedStatistic(items_base=frozenset({'Bagel', 'Pencil', 'Eggs', 'Milk', 'Diaper'}), items_add=frozenset({'Meat', 'Bread'}), confidence=0.6666666666666666, lift=3.230769230769231), OrderedStatistic(items_base=frozenset({'Bagel', 'Pencil', 'Meat', 'Milk', 'Diaper'}), items_add=frozenset({'Eggs', 'Bread'}), confidence=0.6666666666666666, lift=3.559322033898305), OrderedStatistic(items_base=frozenset({'Pencil', 'Meat', 'Eggs', 'Milk', 'Diaper'}), items_add=frozenset({'Bagel', 'Bread'}), confidence=1.0, lift=3.5795454545454546)]),\n",
       " RelationRecord(items=frozenset({'Bagel', 'Pencil', 'Bread', 'Eggs', 'Wine', 'nan', 'Milk'}), support=0.0031746031746031746, ordered_statistics=[OrderedStatistic(items_base=frozenset({'Bagel', 'Bread', 'Eggs', 'nan', 'Milk'}), items_add=frozenset({'Wine', 'Pencil'}), confidence=1.0, lift=5.0), OrderedStatistic(items_base=frozenset({'Bagel', 'Pencil', 'Bread', 'Wine', 'nan'}), items_add=frozenset({'Milk', 'Eggs'}), confidence=1.0, lift=4.090909090909091)]),\n",
       " RelationRecord(items=frozenset({'Bagel', 'Pencil', 'Cheese', 'Meat', 'Eggs', 'Wine', 'Diaper'}), support=0.012698412698412698, ordered_statistics=[OrderedStatistic(items_base=frozenset({'Diaper', 'Meat', 'Pencil', 'Cheese'}), items_add=frozenset({'Eggs', 'Bagel', 'Wine'}), confidence=0.2857142857142857, lift=3.1034482758620685), OrderedStatistic(items_base=frozenset({'Diaper', 'Eggs', 'Pencil', 'Meat'}), items_add=frozenset({'Wine', 'Bagel', 'Cheese'}), confidence=0.36363636363636365, lift=3.3689839572192515), OrderedStatistic(items_base=frozenset({'Pencil', 'Cheese', 'Meat', 'Eggs', 'Diaper'}), items_add=frozenset({'Wine', 'Bagel'}), confidence=0.5714285714285714, lift=3.333333333333333)]),\n",
       " RelationRecord(items=frozenset({'Bagel', 'Pencil', 'Cheese', 'Wine', 'nan', 'Milk', 'Diaper'}), support=0.006349206349206349, ordered_statistics=[OrderedStatistic(items_base=frozenset({'Bagel', 'Pencil', 'Cheese', 'Wine', 'nan'}), items_add=frozenset({'Milk', 'Diaper'}), confidence=0.5, lift=3.2142857142857144)]),\n",
       " RelationRecord(items=frozenset({'Cheese', 'Bread', 'Meat', 'Eggs', 'nan', 'Milk', 'Diaper'}), support=0.006349206349206349, ordered_statistics=[OrderedStatistic(items_base=frozenset({'Meat', 'Eggs', 'nan', 'Milk', 'Diaper'}), items_add=frozenset({'Cheese', 'Bread'}), confidence=1.0, lift=4.2)]),\n",
       " RelationRecord(items=frozenset({'Pencil', 'Cheese', 'Bread', 'Meat', 'Wine', 'Milk', 'Diaper'}), support=0.009523809523809525, ordered_statistics=[OrderedStatistic(items_base=frozenset({'Pencil', 'Cheese', 'Meat', 'Milk', 'Diaper'}), items_add=frozenset({'Wine', 'Bread'}), confidence=1.0, lift=4.090909090909091)]),\n",
       " RelationRecord(items=frozenset({'Pencil', 'Bread', 'Meat', 'Wine', 'nan', 'Milk', 'Diaper'}), support=0.006349206349206349, ordered_statistics=[OrderedStatistic(items_base=frozenset({'Meat', 'Wine', 'nan', 'Milk', 'Diaper'}), items_add=frozenset({'Pencil', 'Bread'}), confidence=1.0, lift=5.0)])]"
      ]
     },
     "execution_count": 35,
     "metadata": {},
     "output_type": "execute_result"
    }
   ],
   "source": [
    "association_results"
   ]
  },
  {
   "cell_type": "code",
   "execution_count": 36,
   "metadata": {},
   "outputs": [
    {
     "data": {
      "text/plain": [
       "RelationRecord(items=frozenset({'Bagel', 'Cheese', 'Bread', 'Meat', 'Eggs', 'nan', 'Diaper'}), support=0.006349206349206349, ordered_statistics=[OrderedStatistic(items_base=frozenset({'Bagel', 'Bread', 'Eggs', 'nan', 'Diaper'}), items_add=frozenset({'Meat', 'Cheese'}), confidence=1.0, lift=3.0882352941176467)])"
      ]
     },
     "execution_count": 36,
     "metadata": {},
     "output_type": "execute_result"
    }
   ],
   "source": [
    "association_results[0]"
   ]
  },
  {
   "cell_type": "code",
   "execution_count": null,
   "metadata": {},
   "outputs": [],
   "source": []
  }
 ],
 "metadata": {
  "kernelspec": {
   "display_name": "Python 3",
   "language": "python",
   "name": "python3"
  },
  "language_info": {
   "codemirror_mode": {
    "name": "ipython",
    "version": 3
   },
   "file_extension": ".py",
   "mimetype": "text/x-python",
   "name": "python",
   "nbconvert_exporter": "python",
   "pygments_lexer": "ipython3",
   "version": "3.7.4"
  }
 },
 "nbformat": 4,
 "nbformat_minor": 2
}
